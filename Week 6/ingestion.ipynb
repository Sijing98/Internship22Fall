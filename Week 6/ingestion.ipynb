{
  "cells": [
    {
      "cell_type": "markdown",
      "metadata": {
        "pycharm": {
          "name": "#%% md\n"
        },
        "id": "2JRVqH0plyfe"
      },
      "source": [
        "## Week 6: File ingestion and schema validation\n",
        "\n",
        "* Take any csv/text file of 2+ GB of your choice. --- (You can do this assignment on Google colab)\n",
        "\n",
        "* Read the file ( Present approach of reading the file )\n",
        "\n",
        "* Try different methods of file reading eg: Dask, Modin, Ray, pandas and present your findings in term of computational     efficiency\n",
        "\n",
        "* Perform basic validation on data columns : eg: remove special character , white spaces from the col name\n",
        "\n",
        "* As you already know the schema hence create a YAML file and write the column name in YAML file. --define separator of   \n",
        "  read and write file, column name in YAML\n",
        "\n",
        "* Validate number of columns and column name of ingested file with YAML.\n",
        "\n",
        "* Write the file in pipe separated text file (|) in gz format.\n",
        "\n",
        "* Create a summary of the file:\n",
        "\n",
        "    Total number of rows,\n",
        "\n",
        "    total number of columns\n",
        "\n",
        "    file size"
      ]
    },
    {
      "cell_type": "code",
      "source": [
        "from google.colab import drive\n",
        "drive.mount('/content/drive')"
      ],
      "metadata": {
        "colab": {
          "base_uri": "https://localhost:8080/"
        },
        "id": "E4u_mgCvmEsj",
        "outputId": "52c4b252-bdf5-467c-faec-e9c542b502c7"
      },
      "execution_count": 1,
      "outputs": [
        {
          "output_type": "stream",
          "name": "stdout",
          "text": [
            "Mounted at /content/drive\n"
          ]
        }
      ]
    },
    {
      "cell_type": "code",
      "execution_count": 2,
      "metadata": {
        "pycharm": {
          "name": "#%%\n"
        },
        "id": "ENtIqaYPlygA"
      },
      "outputs": [],
      "source": [
        "import os\n",
        "import time"
      ]
    },
    {
      "cell_type": "code",
      "execution_count": 8,
      "metadata": {
        "pycharm": {
          "name": "#%%\n"
        },
        "colab": {
          "base_uri": "https://localhost:8080/"
        },
        "id": "5C6R92WBlygE",
        "outputId": "3bdf609f-675d-4d2c-a3d1-9bf500bfcc3d"
      },
      "outputs": [
        {
          "output_type": "execute_result",
          "data": {
            "text/plain": [
              "2859504349"
            ]
          },
          "metadata": {},
          "execution_count": 8
        }
      ],
      "source": [
        "#Size of the file\n",
        "os.path.getsize('/content/drive/MyDrive/Intern week6/Books_rating.csv')"
      ]
    },
    {
      "cell_type": "markdown",
      "metadata": {
        "pycharm": {
          "name": "#%% md\n"
        },
        "id": "NKwCvdZqlygH"
      },
      "source": [
        "### Read in the data with Dask"
      ]
    },
    {
      "cell_type": "code",
      "execution_count": 9,
      "metadata": {
        "pycharm": {
          "name": "#%%\n"
        },
        "colab": {
          "base_uri": "https://localhost:8080/"
        },
        "id": "ukM9Vf5flygJ",
        "outputId": "74e87384-55e1-46ad-b9b5-b1ca013b78dc"
      },
      "outputs": [
        {
          "output_type": "stream",
          "name": "stdout",
          "text": [
            "Read csv with dask:  0.2910168170928955 sec\n"
          ]
        }
      ],
      "source": [
        "from dask import dataframe as dd\n",
        "start = time.time()\n",
        "dask_df = dd.read_csv('/content/drive/MyDrive/Intern week6/Books_rating.csv')\n",
        "end = time.time()\n",
        "print(\"Read csv with dask: \",(end-start),\"sec\")"
      ]
    },
    {
      "cell_type": "markdown",
      "metadata": {
        "pycharm": {
          "name": "#%% md\n"
        },
        "id": "aUBg6IF7lygL"
      },
      "source": [
        "### Read in the data with Pandas"
      ]
    },
    {
      "cell_type": "code",
      "execution_count": 10,
      "metadata": {
        "pycharm": {
          "name": "#%%\n"
        },
        "colab": {
          "base_uri": "https://localhost:8080/"
        },
        "id": "x7aFp0RGlygO",
        "outputId": "697bcb0d-0406-4c1f-c775-d2e697ad3326"
      },
      "outputs": [
        {
          "output_type": "stream",
          "name": "stdout",
          "text": [
            "Read csv with pandas:  67.73333406448364 sec\n"
          ]
        }
      ],
      "source": [
        "import pandas as pd\n",
        "start = time.time()\n",
        "df = pd.read_csv('/content/drive/MyDrive/Intern week6/Books_rating.csv')\n",
        "end = time.time()\n",
        "print(\"Read csv with pandas: \",(end-start),\"sec\")"
      ]
    },
    {
      "cell_type": "markdown",
      "metadata": {
        "pycharm": {
          "name": "#%% md\n"
        },
        "id": "UEEEpdaLlygR"
      },
      "source": [
        "### Read in the data with Modin and Ray"
      ]
    },
    {
      "cell_type": "code",
      "source": [
        "!pip install modin"
      ],
      "metadata": {
        "colab": {
          "base_uri": "https://localhost:8080/"
        },
        "id": "h-fSNjFuCS0x",
        "outputId": "8aa92334-627d-42bd-a9da-11a1905a9dc5"
      },
      "execution_count": 11,
      "outputs": [
        {
          "output_type": "stream",
          "name": "stdout",
          "text": [
            "Looking in indexes: https://pypi.org/simple, https://us-python.pkg.dev/colab-wheels/public/simple/\n",
            "Collecting modin\n",
            "  Downloading modin-0.16.0-py3-none-any.whl (956 kB)\n",
            "\u001b[K     |████████████████████████████████| 956 kB 5.2 MB/s \n",
            "\u001b[?25hRequirement already satisfied: psutil in /usr/local/lib/python3.7/dist-packages (from modin) (5.4.8)\n",
            "Requirement already satisfied: numpy>=1.18.5 in /usr/local/lib/python3.7/dist-packages (from modin) (1.21.6)\n",
            "Requirement already satisfied: fsspec in /usr/local/lib/python3.7/dist-packages (from modin) (2022.8.2)\n",
            "Requirement already satisfied: packaging in /usr/local/lib/python3.7/dist-packages (from modin) (21.3)\n",
            "  Downloading modin-0.12.1-py3-none-any.whl (761 kB)\n",
            "\u001b[K     |████████████████████████████████| 761 kB 41.2 MB/s \n",
            "\u001b[?25hRequirement already satisfied: pandas==1.3.5 in /usr/local/lib/python3.7/dist-packages (from modin) (1.3.5)\n",
            "Requirement already satisfied: python-dateutil>=2.7.3 in /usr/local/lib/python3.7/dist-packages (from pandas==1.3.5->modin) (2.8.2)\n",
            "Requirement already satisfied: pytz>=2017.3 in /usr/local/lib/python3.7/dist-packages (from pandas==1.3.5->modin) (2022.4)\n",
            "Requirement already satisfied: six>=1.5 in /usr/local/lib/python3.7/dist-packages (from python-dateutil>=2.7.3->pandas==1.3.5->modin) (1.15.0)\n",
            "Requirement already satisfied: pyparsing!=3.0.5,>=2.0.2 in /usr/local/lib/python3.7/dist-packages (from packaging->modin) (3.0.9)\n",
            "Installing collected packages: modin\n",
            "Successfully installed modin-0.12.1\n"
          ]
        }
      ]
    },
    {
      "cell_type": "code",
      "source": [
        "!pip install ray"
      ],
      "metadata": {
        "colab": {
          "base_uri": "https://localhost:8080/"
        },
        "id": "RAfWTAW5Cxfb",
        "outputId": "f3137752-43e8-4e0c-f5a0-1b356c814031"
      },
      "execution_count": 13,
      "outputs": [
        {
          "output_type": "stream",
          "name": "stdout",
          "text": [
            "Looking in indexes: https://pypi.org/simple, https://us-python.pkg.dev/colab-wheels/public/simple/\n",
            "Collecting ray\n",
            "  Downloading ray-2.0.0-cp37-cp37m-manylinux2014_x86_64.whl (59.4 MB)\n",
            "\u001b[K     |████████████████████████████████| 59.4 MB 58 kB/s \n",
            "\u001b[?25hRequirement already satisfied: numpy>=1.16 in /usr/local/lib/python3.7/dist-packages (from ray) (1.21.6)\n",
            "Requirement already satisfied: click<=8.0.4,>=7.0 in /usr/local/lib/python3.7/dist-packages (from ray) (7.1.2)\n",
            "Requirement already satisfied: filelock in /usr/local/lib/python3.7/dist-packages (from ray) (3.8.0)\n",
            "Requirement already satisfied: attrs in /usr/local/lib/python3.7/dist-packages (from ray) (22.1.0)\n",
            "Requirement already satisfied: jsonschema in /usr/local/lib/python3.7/dist-packages (from ray) (4.3.3)\n",
            "Requirement already satisfied: frozenlist in /usr/local/lib/python3.7/dist-packages (from ray) (1.3.1)\n",
            "Requirement already satisfied: typing-extensions in /usr/local/lib/python3.7/dist-packages (from ray) (4.1.1)\n",
            "Requirement already satisfied: msgpack<2.0.0,>=1.0.0 in /usr/local/lib/python3.7/dist-packages (from ray) (1.0.4)\n",
            "Requirement already satisfied: pyyaml in /usr/local/lib/python3.7/dist-packages (from ray) (6.0)\n",
            "Collecting virtualenv\n",
            "  Downloading virtualenv-20.16.5-py3-none-any.whl (8.8 MB)\n",
            "\u001b[K     |████████████████████████████████| 8.8 MB 43.2 MB/s \n",
            "\u001b[?25hRequirement already satisfied: protobuf<4.0.0,>=3.15.3 in /usr/local/lib/python3.7/dist-packages (from ray) (3.17.3)\n",
            "Collecting grpcio<=1.43.0,>=1.28.1\n",
            "  Downloading grpcio-1.43.0-cp37-cp37m-manylinux_2_17_x86_64.manylinux2014_x86_64.whl (4.1 MB)\n",
            "\u001b[K     |████████████████████████████████| 4.1 MB 34.0 MB/s \n",
            "\u001b[?25hRequirement already satisfied: aiosignal in /usr/local/lib/python3.7/dist-packages (from ray) (1.2.0)\n",
            "Requirement already satisfied: requests in /usr/local/lib/python3.7/dist-packages (from ray) (2.23.0)\n",
            "Requirement already satisfied: six>=1.5.2 in /usr/local/lib/python3.7/dist-packages (from grpcio<=1.43.0,>=1.28.1->ray) (1.15.0)\n",
            "Requirement already satisfied: pyrsistent!=0.17.0,!=0.17.1,!=0.17.2,>=0.14.0 in /usr/local/lib/python3.7/dist-packages (from jsonschema->ray) (0.18.1)\n",
            "Requirement already satisfied: importlib-resources>=1.4.0 in /usr/local/lib/python3.7/dist-packages (from jsonschema->ray) (5.9.0)\n",
            "Requirement already satisfied: importlib-metadata in /usr/local/lib/python3.7/dist-packages (from jsonschema->ray) (5.0.0)\n",
            "Requirement already satisfied: zipp>=3.1.0 in /usr/local/lib/python3.7/dist-packages (from importlib-resources>=1.4.0->jsonschema->ray) (3.8.1)\n",
            "Requirement already satisfied: certifi>=2017.4.17 in /usr/local/lib/python3.7/dist-packages (from requests->ray) (2022.9.24)\n",
            "Requirement already satisfied: idna<3,>=2.5 in /usr/local/lib/python3.7/dist-packages (from requests->ray) (2.10)\n",
            "Requirement already satisfied: urllib3!=1.25.0,!=1.25.1,<1.26,>=1.21.1 in /usr/local/lib/python3.7/dist-packages (from requests->ray) (1.24.3)\n",
            "Requirement already satisfied: chardet<4,>=3.0.2 in /usr/local/lib/python3.7/dist-packages (from requests->ray) (3.0.4)\n",
            "Collecting distlib<1,>=0.3.5\n",
            "  Downloading distlib-0.3.6-py2.py3-none-any.whl (468 kB)\n",
            "\u001b[K     |████████████████████████████████| 468 kB 66.9 MB/s \n",
            "\u001b[?25hCollecting platformdirs<3,>=2.4\n",
            "  Downloading platformdirs-2.5.2-py3-none-any.whl (14 kB)\n",
            "Installing collected packages: platformdirs, distlib, virtualenv, grpcio, ray\n",
            "  Attempting uninstall: grpcio\n",
            "    Found existing installation: grpcio 1.49.1\n",
            "    Uninstalling grpcio-1.49.1:\n",
            "      Successfully uninstalled grpcio-1.49.1\n",
            "Successfully installed distlib-0.3.6 grpcio-1.43.0 platformdirs-2.5.2 ray-2.0.0 virtualenv-20.16.5\n"
          ]
        }
      ]
    },
    {
      "cell_type": "code",
      "execution_count": 15,
      "metadata": {
        "pycharm": {
          "name": "#%%\n"
        },
        "colab": {
          "base_uri": "https://localhost:8080/"
        },
        "id": "h9uPL98clygT",
        "outputId": "ea4c4495-dacc-474b-f2a6-0b8c0c51a722"
      },
      "outputs": [
        {
          "output_type": "stream",
          "name": "stderr",
          "text": [
            "2022-10-07 01:25:53,573\tINFO worker.py:1518 -- Started a local Ray instance.\n",
            "\u001b[2m\u001b[36m(deploy_ray_func pid=903)\u001b[0m tcmalloc: large alloc 1429757952 bytes == 0x33d6000 @  0x7fdac6d911e7 0x4b2150 0x5ac2ec 0x5e3d6d 0x58ee7f 0x51c455 0x5b41c5 0x58f49e 0x51b221 0x5b41c5 0x4ba80a 0x51908c 0x5b41c5 0x4ba80a 0x51908c 0x4ba70a 0x7fdac3a86b92 0x7fdac3b1c0f8 0x7fdac3a8d3b6 0x7fdac3c0d44d 0x7fdac3b6ccaf 0x7fdac3c367d3 0x7fdac3c376ca 0x7fdac3c4b95e 0x7fdac3c21bb0 0x7fdac3e45796 0x7fdac3dfe5fe 0x7fdac3dfe856 0x7fdac427667b 0x7fdac42778b1 0x7fdac4277b20\n",
            "\u001b[2m\u001b[36m(deploy_ray_func pid=902)\u001b[0m tcmalloc: large alloc 1429757952 bytes == 0x5026000 @  0x7f0e220091e7 0x4b2150 0x5ac2ec 0x5e3d6d 0x58ee7f 0x51c455 0x5b41c5 0x58f49e 0x51b221 0x5b41c5 0x4ba80a 0x51908c 0x5b41c5 0x4ba80a 0x51908c 0x4ba70a 0x7f0e1ecfeb92 0x7f0e1ed940f8 0x7f0e1ed053b6 0x7f0e1ee8544d 0x7f0e1ede4caf 0x7f0e1eeae7d3 0x7f0e1eeaf6ca 0x7f0e1eec395e 0x7f0e1ee99bb0 0x7f0e1f0bd796 0x7f0e1f0765fe 0x7f0e1f076856 0x7f0e1f4ee67b 0x7f0e1f4ef8b1 0x7f0e1f4efb20\n",
            "\u001b[2m\u001b[36m(deploy_ray_func pid=903)\u001b[0m tcmalloc: large alloc 1429757952 bytes == 0x5875c000 @  0x7fdac6d911e7 0x4b2150 0x58dcf1 0x517e0b 0x5b41c5 0x4ba80a 0x51908c 0x5b41c5 0x4ba80a 0x51908c 0x4ba70a 0x7fdac3a86b92 0x7fdac3b1c0f8 0x7fdac3a8d3b6 0x7fdac3c0d44d 0x7fdac3b6ccaf 0x7fdac3c367d3 0x7fdac3c376ca 0x7fdac3c4b95e 0x7fdac3c21bb0 0x7fdac3e45796 0x7fdac3dfe5fe 0x7fdac3dfe856 0x7fdac427667b 0x7fdac42778b1 0x7fdac4277b20 0x7fdac3be767c 0x7fdac3c1d14c 0x7fdac3c1d2fd 0x7fdac3a89357 0x4d1947\n",
            "\u001b[2m\u001b[36m(deploy_ray_func pid=902)\u001b[0m tcmalloc: large alloc 1429757952 bytes == 0x5a3ac000 @  0x7f0e220091e7 0x4b2150 0x58dcf1 0x517e0b 0x5b41c5 0x4ba80a 0x51908c 0x5b41c5 0x4ba80a 0x51908c 0x4ba70a 0x7f0e1ecfeb92 0x7f0e1ed940f8 0x7f0e1ed053b6 0x7f0e1ee8544d 0x7f0e1ede4caf 0x7f0e1eeae7d3 0x7f0e1eeaf6ca 0x7f0e1eec395e 0x7f0e1ee99bb0 0x7f0e1f0bd796 0x7f0e1f0765fe 0x7f0e1f076856 0x7f0e1f4ee67b 0x7f0e1f4ef8b1 0x7f0e1f4efb20 0x7f0e1ee5f67c 0x7f0e1ee9514c 0x7f0e1ee952fd 0x7f0e1ed01357 0x4d1947\n",
            "\u001b[2m\u001b[36m(deploy_ray_func pid=903)\u001b[0m tcmalloc: large alloc 1378156544 bytes == 0xf52ca000 @  0x7fdac6d92615 0x58e046 0x4f2e5e 0x58ee1f 0x590c9f 0x591039 0x7fdac21a58c2 0x7fdac21ac064 0x7fdac21ade77 0x7fdac21ad5f3 0x7fdac21af45a 0x7fdac21ac58c 0x7fdac21adb2e 0x7fdac21aefbc 0x7fdac21ac58c 0x7fdac21adb2e 0x7fdac21adb2e 0x7fdac21aefbc 0x7fdac21ac58c 0x7fdac21adc90 0x7fdac21af45a 0x7fdac21ac58c 0x7fdac21adf3c 0x7fdac21ae15e 0x7fdac21ae2c7 0x4d19df 0x51b799 0x58f2a7 0x517947 0x5b41c5 0x58f49e\n",
            "\u001b[2m\u001b[36m(deploy_ray_func pid=902)\u001b[0m tcmalloc: large alloc 1378156544 bytes == 0xb5f50000 @  0x7f0e2200a615 0x58e046 0x4f2e5e 0x58ee1f 0x590c9f 0x591039 0x7f0e1d41d8c2 0x7f0e1d424064 0x7f0e1d425e77 0x7f0e1d4255f3 0x7f0e1d42745a 0x7f0e1d42458c 0x7f0e1d425b2e 0x7f0e1d426fbc 0x7f0e1d42458c 0x7f0e1d425b2e 0x7f0e1d425b2e 0x7f0e1d426fbc 0x7f0e1d42458c 0x7f0e1d425c90 0x7f0e1d42745a 0x7f0e1d42458c 0x7f0e1d425f3c 0x7f0e1d42615e 0x7f0e1d4262c7 0x4d19df 0x51b799 0x58f2a7 0x517947 0x5b41c5 0x58f49e\n",
            "2022-10-07 01:27:31,584\tWARNING worker.py:1829 -- A worker died or was killed while executing a task by an unexpected system error. To troubleshoot the problem, check the logs for the dead worker. RayTask ID: a2c776050adc506861554e6a111124461e9eb33601000000 Worker ID: cfa05a49a59d309a168b18b03368140b3bb6afdf84b37d2cb019e8c4 Node ID: cbe4d694fc08909fd3fd7757a4c1364762471096044d40343a5b7535 Worker IP address: 172.28.0.2 Worker port: 35001 Worker PID: 902 Worker exit type: SYSTEM_ERROR Worker exit detail: Worker unexpectedly exits with a connection error code 2. End of file. There are some potential root causes. (1) The process is killed by SIGKILL by OOM killer due to high memory usage. (2) ray stop --force is called. (3) The worker is crashed unexpectedly due to SIGSEGV or other unexpected errors.\n",
            "2022-10-07 01:27:31,599\tWARNING worker.py:1829 -- A worker died or was killed while executing a task by an unexpected system error. To troubleshoot the problem, check the logs for the dead worker. RayTask ID: 3981468136b894b51acec32e103353a5bd00be7c01000000 Worker ID: 22b61e30ea8beed8bdc9cae9af0c527e30f693b9cd2c0bdc9bdfb15b Node ID: cbe4d694fc08909fd3fd7757a4c1364762471096044d40343a5b7535 Worker IP address: 172.28.0.2 Worker port: 33143 Worker PID: 903 Worker exit type: SYSTEM_ERROR Worker exit detail: Worker unexpectedly exits with a connection error code 2. End of file. There are some potential root causes. (1) The process is killed by SIGKILL by OOM killer due to high memory usage. (2) ray stop --force is called. (3) The worker is crashed unexpectedly due to SIGSEGV or other unexpected errors.\n",
            "\u001b[2m\u001b[36m(deploy_ray_func pid=1033)\u001b[0m tcmalloc: large alloc 1429757952 bytes == 0x440a000 @  0x7fe3eec681e7 0x4b2150 0x5ac2ec 0x5e3d6d 0x58ee7f 0x51c455 0x5b41c5 0x58f49e 0x51b221 0x5b41c5 0x4ba80a 0x51908c 0x5b41c5 0x4ba80a 0x51908c 0x4ba70a 0x7fe3eb95db92 0x7fe3eb9f30f8 0x7fe3eb9643b6 0x7fe3ebae444d 0x7fe3eba43caf 0x7fe3ebb0d7d3 0x7fe3ebb0e6ca 0x7fe3ebb2295e 0x7fe3ebaf8bb0 0x7fe3ebd1c796 0x7fe3ebcd55fe 0x7fe3ebcd5856 0x7fe3ec14d67b 0x7fe3ec14e8b1 0x7fe3ec14eb20\n",
            "\u001b[2m\u001b[36m(deploy_ray_func pid=1063)\u001b[0m tcmalloc: large alloc 1429757952 bytes == 0x3fcc000 @  0x7f37d40671e7 0x4b2150 0x5ac2ec 0x5e3d6d 0x58ee7f 0x51c455 0x5b41c5 0x58f49e 0x51b221 0x5b41c5 0x4ba80a 0x51908c 0x5b41c5 0x4ba80a 0x51908c 0x4ba70a 0x7f37d0d5cb92 0x7f37d0df20f8 0x7f37d0d633b6 0x7f37d0ee344d 0x7f37d0e42caf 0x7f37d0f0c7d3 0x7f37d0f0d6ca 0x7f37d0f2195e 0x7f37d0ef7bb0 0x7f37d111b796 0x7f37d10d45fe 0x7f37d10d4856 0x7f37d154c67b 0x7f37d154d8b1 0x7f37d154db20\n",
            "\u001b[2m\u001b[36m(deploy_ray_func pid=1063)\u001b[0m tcmalloc: large alloc 1429757952 bytes == 0x59396000 @  0x7f37d40671e7 0x4b2150 0x58dcf1 0x517e0b 0x5b41c5 0x4ba80a 0x51908c 0x5b41c5 0x4ba80a 0x51908c 0x4ba70a 0x7f37d0d5cb92 0x7f37d0df20f8 0x7f37d0d633b6 0x7f37d0ee344d 0x7f37d0e42caf 0x7f37d0f0c7d3 0x7f37d0f0d6ca 0x7f37d0f2195e 0x7f37d0ef7bb0 0x7f37d111b796 0x7f37d10d45fe 0x7f37d10d4856 0x7f37d154c67b 0x7f37d154d8b1 0x7f37d154db20 0x7f37d0ebd67c 0x7f37d0ef314c 0x7f37d0ef32fd 0x7f37d0d5f357 0x4d1947\n",
            "\u001b[2m\u001b[36m(deploy_ray_func pid=1033)\u001b[0m tcmalloc: large alloc 1429757952 bytes == 0x597de000 @  0x7fe3eec681e7 0x4b2150 0x58dcf1 0x517e0b 0x5b41c5 0x4ba80a 0x51908c 0x5b41c5 0x4ba80a 0x51908c 0x4ba70a 0x7fe3eb95db92 0x7fe3eb9f30f8 0x7fe3eb9643b6 0x7fe3ebae444d 0x7fe3eba43caf 0x7fe3ebb0d7d3 0x7fe3ebb0e6ca 0x7fe3ebb2295e 0x7fe3ebaf8bb0 0x7fe3ebd1c796 0x7fe3ebcd55fe 0x7fe3ebcd5856 0x7fe3ec14d67b 0x7fe3ec14e8b1 0x7fe3ec14eb20 0x7fe3ebabe67c 0x7fe3ebaf414c 0x7fe3ebaf42fd 0x7fe3eb960357 0x4d1947\n",
            "\u001b[2m\u001b[36m(deploy_ray_func pid=1063)\u001b[0m tcmalloc: large alloc 1378156544 bytes == 0x12085a000 @  0x7f37d4068615 0x58e046 0x4f2e5e 0x58ee1f 0x590c9f 0x591039 0x7f37cf47b8c2 0x7f37cf482064 0x7f37cf483e77 0x7f37cf4835f3 0x7f37cf48545a 0x7f37cf48258c 0x7f37cf483b2e 0x7f37cf484fbc 0x7f37cf48258c 0x7f37cf483b2e 0x7f37cf483b2e 0x7f37cf484fbc 0x7f37cf48258c 0x7f37cf483c90 0x7f37cf48545a 0x7f37cf48258c 0x7f37cf483f3c 0x7f37cf48415e 0x7f37cf4842c7 0x4d19df 0x51b799 0x58f2a7 0x517947 0x5b41c5 0x58f49e\n",
            "\u001b[2m\u001b[36m(deploy_ray_func pid=1033)\u001b[0m tcmalloc: large alloc 1378156544 bytes == 0xb53ee000 @  0x7fe3eec69615 0x58e046 0x4f2e5e 0x58ee1f 0x590c9f 0x591039 0x7fe3ea07c8c2 0x7fe3ea083064 0x7fe3ea084e77 0x7fe3ea0845f3 0x7fe3ea08645a 0x7fe3ea08358c 0x7fe3ea084b2e 0x7fe3ea085fbc 0x7fe3ea08358c 0x7fe3ea084b2e 0x7fe3ea084b2e 0x7fe3ea085fbc 0x7fe3ea08358c 0x7fe3ea084c90 0x7fe3ea08645a 0x7fe3ea08358c 0x7fe3ea084f3c 0x7fe3ea08515e 0x7fe3ea0852c7 0x4d19df 0x51b799 0x58f2a7 0x517947 0x5b41c5 0x58f49e\n",
            "2022-10-07 01:28:39,687\tWARNING worker.py:1829 -- A worker died or was killed while executing a task by an unexpected system error. To troubleshoot the problem, check the logs for the dead worker. RayTask ID: 97529af84e323c9d6ffb3afb0a3d62801f1dbd4b01000000 Worker ID: bedf18cb8bc471391a2d0548534c487b0253182820a75b5b870c1c71 Node ID: cbe4d694fc08909fd3fd7757a4c1364762471096044d40343a5b7535 Worker IP address: 172.28.0.2 Worker port: 34251 Worker PID: 1063 Worker exit type: SYSTEM_ERROR Worker exit detail: Worker unexpectedly exits with a connection error code 2. End of file. There are some potential root causes. (1) The process is killed by SIGKILL by OOM killer due to high memory usage. (2) ray stop --force is called. (3) The worker is crashed unexpectedly due to SIGSEGV or other unexpected errors.\n",
            "\u001b[2m\u001b[36m(deploy_ray_func pid=1033)\u001b[0m tcmalloc: large alloc 1722695680 bytes == 0x10bf6c000 @  0x7fe3eec69615 0x58e046 0x4f2e5e 0x58ee1f 0x590c9f 0x591039 0x7fe3ea07c8c2 0x7fe3ea083064 0x7fe3ea084e77 0x7fe3ea0845f3 0x7fe3ea08645a 0x7fe3ea08358c 0x7fe3ea084b2e 0x7fe3ea085fbc 0x7fe3ea08358c 0x7fe3ea084b2e 0x7fe3ea084b2e 0x7fe3ea085fbc 0x7fe3ea08358c 0x7fe3ea084c90 0x7fe3ea08645a 0x7fe3ea08358c 0x7fe3ea084f3c 0x7fe3ea08515e 0x7fe3ea0852c7 0x4d19df 0x51b799 0x58f2a7 0x517947 0x5b41c5 0x58f49e\n",
            "\u001b[2m\u001b[36m(deploy_ray_func pid=1150)\u001b[0m tcmalloc: large alloc 1429757952 bytes == 0x30ac000 @  0x7f51029621e7 0x4b2150 0x5ac2ec 0x5e3d6d 0x58ee7f 0x51c455 0x5b41c5 0x58f49e 0x51b221 0x5b41c5 0x4ba80a 0x51908c 0x5b41c5 0x4ba80a 0x51908c 0x4ba70a 0x7f50ff657b92 0x7f50ff6ed0f8 0x7f50ff65e3b6 0x7f50ff7de44d 0x7f50ff73dcaf 0x7f50ff8077d3 0x7f50ff8086ca 0x7f50ff81c95e 0x7f50ff7f2bb0 0x7f50ffa16796 0x7f50ff9cf5fe 0x7f50ff9cf856 0x7f50ffe4767b 0x7f50ffe488b1 0x7f50ffe48b20\n",
            "\u001b[2m\u001b[36m(deploy_ray_func pid=1150)\u001b[0m tcmalloc: large alloc 1429757952 bytes == 0x58432000 @  0x7f51029621e7 0x4b2150 0x58dcf1 0x517e0b 0x5b41c5 0x4ba80a 0x51908c 0x5b41c5 0x4ba80a 0x51908c 0x4ba70a 0x7f50ff657b92 0x7f50ff6ed0f8 0x7f50ff65e3b6 0x7f50ff7de44d 0x7f50ff73dcaf 0x7f50ff8077d3 0x7f50ff8086ca 0x7f50ff81c95e 0x7f50ff7f2bb0 0x7f50ffa16796 0x7f50ff9cf5fe 0x7f50ff9cf856 0x7f50ffe4767b 0x7f50ffe488b1 0x7f50ffe48b20 0x7f50ff7b867c 0x7f50ff7ee14c 0x7f50ff7ee2fd 0x7f50ff65a357 0x4d1947\n",
            "\u001b[2m\u001b[36m(deploy_ray_func pid=1150)\u001b[0m tcmalloc: large alloc 1378156544 bytes == 0xf4fa2000 @  0x7f5102963615 0x58e046 0x4f2e5e 0x58ee1f 0x590c9f 0x591039 0x7f50fdd768c2 0x7f50fdd7d064 0x7f50fdd7ee77 0x7f50fdd7e5f3 0x7f50fdd8045a 0x7f50fdd7d58c 0x7f50fdd7eb2e 0x7f50fdd7ffbc 0x7f50fdd7d58c 0x7f50fdd7eb2e 0x7f50fdd7eb2e 0x7f50fdd7ffbc 0x7f50fdd7d58c 0x7f50fdd7ec90 0x7f50fdd8045a 0x7f50fdd7d58c 0x7f50fdd7ef3c 0x7f50fdd7f15e 0x7f50fdd7f2c7 0x4d19df 0x51b799 0x58f2a7 0x517947 0x5b41c5 0x58f49e\n",
            "\u001b[2m\u001b[36m(deploy_ray_func pid=1150)\u001b[0m tcmalloc: large alloc 1722695680 bytes == 0x14ae16000 @  0x7f5102963615 0x58e046 0x4f2e5e 0x58ee1f 0x590c9f 0x591039 0x7f50fdd768c2 0x7f50fdd7d064 0x7f50fdd7ee77 0x7f50fdd7e5f3 0x7f50fdd8045a 0x7f50fdd7d58c 0x7f50fdd7eb2e 0x7f50fdd7ffbc 0x7f50fdd7d58c 0x7f50fdd7eb2e 0x7f50fdd7eb2e 0x7f50fdd7ffbc 0x7f50fdd7d58c 0x7f50fdd7ec90 0x7f50fdd8045a 0x7f50fdd7d58c 0x7f50fdd7ef3c 0x7f50fdd7f15e 0x7f50fdd7f2c7 0x4d19df 0x51b799 0x58f2a7 0x517947 0x5b41c5 0x58f49e\n"
          ]
        },
        {
          "output_type": "stream",
          "name": "stdout",
          "text": [
            "Read csv with modin and ray:  210.13118863105774 sec\n"
          ]
        }
      ],
      "source": [
        "import modin.pandas as pd\n",
        "import ray\n",
        "ray.shutdown()\n",
        "ray.init()\n",
        "start = time.time()\n",
        "df = pd.read_csv('/content/drive/MyDrive/Intern week6/Books_rating.csv')\n",
        "end = time.time()\n",
        "print(\"Read csv with modin and ray: \",(end-start),\"sec\")"
      ]
    },
    {
      "cell_type": "markdown",
      "metadata": {
        "pycharm": {
          "name": "#%% md\n"
        },
        "id": "uteV3xkFlygW"
      },
      "source": [
        "### Here Dask is better than Pandas, Modin and Ray, with the least reading time of 0.29 sec"
      ]
    },
    {
      "cell_type": "code",
      "execution_count": 19,
      "metadata": {
        "pycharm": {
          "name": "#%%\n"
        },
        "id": "aAnKWIxJlygZ"
      },
      "outputs": [],
      "source": [
        "from dask import dataframe\n",
        "df = dataframe.read_csv('/content/drive/MyDrive/Intern week6/Books_rating.csv',delimiter=',', dtype={'Id': 'object'})"
      ]
    },
    {
      "cell_type": "code",
      "execution_count": 20,
      "metadata": {
        "pycharm": {
          "name": "#%%\n"
        },
        "colab": {
          "base_uri": "https://localhost:8080/"
        },
        "id": "UxfLiWM7lyga",
        "outputId": "9398ac7e-8f6f-4a01-edae-c83032afbaf1"
      },
      "outputs": [
        {
          "output_type": "stream",
          "name": "stdout",
          "text": [
            "<class 'dask.dataframe.core.DataFrame'>\n",
            "Columns: 10 entries, Id to review/text\n",
            "dtypes: object(7), float64(2), int64(1)"
          ]
        }
      ],
      "source": [
        "df.info()"
      ]
    },
    {
      "cell_type": "code",
      "execution_count": 21,
      "metadata": {
        "pycharm": {
          "name": "#%%\n"
        },
        "colab": {
          "base_uri": "https://localhost:8080/"
        },
        "id": "76znJLPwlyge",
        "outputId": "6851e9f4-9b2b-41d5-8178-9df22603e3e6"
      },
      "outputs": [
        {
          "output_type": "execute_result",
          "data": {
            "text/plain": [
              "3000000"
            ]
          },
          "metadata": {},
          "execution_count": 21
        }
      ],
      "source": [
        "#No. of Rows\n",
        "len(df.index)"
      ]
    },
    {
      "cell_type": "code",
      "execution_count": 22,
      "metadata": {
        "pycharm": {
          "name": "#%%\n"
        },
        "colab": {
          "base_uri": "https://localhost:8080/"
        },
        "id": "uvxlAXkAlygf",
        "outputId": "70a677a2-3d0c-4214-8b4c-7a40fd20d1c8"
      },
      "outputs": [
        {
          "output_type": "execute_result",
          "data": {
            "text/plain": [
              "10"
            ]
          },
          "metadata": {},
          "execution_count": 22
        }
      ],
      "source": [
        "#No, of Columns\n",
        "len(df.columns)"
      ]
    },
    {
      "cell_type": "code",
      "execution_count": 23,
      "metadata": {
        "pycharm": {
          "name": "#%%\n"
        },
        "id": "k8_Hp8yJlygg"
      },
      "outputs": [],
      "source": [
        "# remove special character\n",
        "df.columns=df.columns.str.replace('[#,@,&]','')"
      ]
    },
    {
      "cell_type": "code",
      "execution_count": 24,
      "metadata": {
        "pycharm": {
          "name": "#%%\n"
        },
        "id": "pqZ9fJurlygi"
      },
      "outputs": [],
      "source": [
        "#To remove white space from columns\n",
        "df.columns = df.columns.str.replace(' ', '')"
      ]
    },
    {
      "cell_type": "code",
      "execution_count": 25,
      "metadata": {
        "pycharm": {
          "name": "#%%\n"
        },
        "colab": {
          "base_uri": "https://localhost:8080/"
        },
        "id": "Qk-dcbGXlygj",
        "outputId": "2cace4ad-4ab9-45da-9b5b-f9214537e40f"
      },
      "outputs": [
        {
          "output_type": "execute_result",
          "data": {
            "text/plain": [
              "Index(['Id', 'Title', 'Price', 'User_id', 'profileName', 'review/helpfulness',\n",
              "       'review/score', 'review/time', 'review/summary', 'review/text'],\n",
              "      dtype='object')"
            ]
          },
          "metadata": {},
          "execution_count": 25
        }
      ],
      "source": [
        "data=df.columns\n",
        "data"
      ]
    },
    {
      "cell_type": "markdown",
      "metadata": {
        "pycharm": {
          "name": "#%% md\n"
        },
        "id": "bME-suYYlygl"
      },
      "source": [
        "### Validation"
      ]
    },
    {
      "cell_type": "code",
      "source": [
        "import logging\n",
        "import os\n",
        "import subprocess\n",
        "import yaml\n",
        "import pandas as pd\n",
        "import datetime\n",
        "import gc\n",
        "import re\n",
        "\n",
        "\n",
        "def read_config_file(filepath):\n",
        "    with open(filepath, 'r') as stream:\n",
        "        try:\n",
        "            return yaml.safe_load(stream)\n",
        "        except yaml.YAMLError as exc:\n",
        "            logging.error(exc)\n",
        "\n",
        "\n",
        "def replacer(string, char):\n",
        "    pattern = char + '{2,}'\n",
        "    string = re.sub(pattern, char, string)\n",
        "    return string\n",
        "\n",
        "def col_header_val(df,table_config):\n",
        "    '''\n",
        "    replace whitespaces in the column\n",
        "    and standardized column names\n",
        "    '''\n",
        "    df.columns = df.columns.str.lower()\n",
        "    df.columns = df.columns.str.replace('[^\\w]','_',regex=True)\n",
        "    df.columns = list(map(lambda x: x.strip('_'), list(df.columns)))\n",
        "    df.columns = list(map(lambda x: replacer(x,'_'), list(df.columns)))\n",
        "    expected_col = list(map(lambda x: x.lower(),  table_config['columns']))\n",
        "    expected_col.sort()\n",
        "    df.columns =list(map(lambda x: x.lower(), list(df.columns)))\n",
        "    df = df.reindex(sorted(df.columns), axis=1)\n",
        "    if len(df.columns) == len(expected_col) and list(expected_col)  == list(df.columns):\n",
        "        print(\"column name and column length validation passed\")\n",
        "        return 1\n",
        "    else:\n",
        "        print(\"column name and column length validation failed\")\n",
        "        mismatched_columns_file = list(set(df.columns).difference(expected_col))\n",
        "        print(\"Following File columns are not in the YAML file\",mismatched_columns_file)\n",
        "        missing_YAML_file = list(set(expected_col).difference(df.columns))\n",
        "        print(\"Following YAML columns are not in the file uploaded\",missing_YAML_file)\n",
        "        logging.info(f'df columns: {df.columns}')\n",
        "        logging.info(f'expected columns: {expected_col}')\n",
        "        return 0"
      ],
      "metadata": {
        "id": "LKBUuAydGoO7"
      },
      "execution_count": 28,
      "outputs": []
    },
    {
      "cell_type": "code",
      "source": [
        "config_data = read_config_file(\"/content/drive/MyDrive/Intern week6/store.yaml\")"
      ],
      "metadata": {
        "id": "xOoHisXRKOVO"
      },
      "execution_count": 47,
      "outputs": []
    },
    {
      "cell_type": "code",
      "execution_count": 48,
      "metadata": {
        "pycharm": {
          "name": "#%%\n"
        },
        "colab": {
          "base_uri": "https://localhost:8080/"
        },
        "id": "MJ9O92q6lyhC",
        "outputId": "77b8be15-28aa-4e7f-defc-3991f59e6da8"
      },
      "outputs": [
        {
          "output_type": "execute_result",
          "data": {
            "text/plain": [
              "{'file_type': 'csv',\n",
              " 'dataset_name': 'file',\n",
              " 'file_name': 'Books_rating',\n",
              " 'table_name': 'edsurv',\n",
              " 'inbound_delimiter': ',',\n",
              " 'outbound_delimiter': '|',\n",
              " 'skip_leading_rows': 1,\n",
              " 'columns': ['Id',\n",
              "  'Title',\n",
              "  'Price',\n",
              "  'User_id',\n",
              "  'profileName',\n",
              "  'review_helpfulness',\n",
              "  'review_score',\n",
              "  'review_time',\n",
              "  'review_summary',\n",
              "  'review_text']}"
            ]
          },
          "metadata": {},
          "execution_count": 48
        }
      ],
      "source": [
        "#data of config file\n",
        "config_data"
      ]
    },
    {
      "cell_type": "code",
      "execution_count": 42,
      "metadata": {
        "pycharm": {
          "name": "#%%\n"
        },
        "colab": {
          "base_uri": "https://localhost:8080/",
          "height": 337
        },
        "id": "1K3JjVP3lyhH",
        "outputId": "c4680368-3c5d-48db-8a79-8ad24ba48722"
      },
      "outputs": [
        {
          "output_type": "execute_result",
          "data": {
            "text/plain": [
              "           Id                           Title  Price         User_id  \\\n",
              "0  1882931173  Its Only Art If Its Well Hung!    NaN   AVCGYZL8FQQTD   \n",
              "1  0826414346        Dr. Seuss: American Icon    NaN  A30TK6U7DNS82R   \n",
              "2  0826414346        Dr. Seuss: American Icon    NaN  A3UH4UZ4RSVO82   \n",
              "3  0826414346        Dr. Seuss: American Icon    NaN  A2MVUWT453QH61   \n",
              "4  0826414346        Dr. Seuss: American Icon    NaN  A22X4XUPKF66MR   \n",
              "\n",
              "                          profileName review/helpfulness  review/score  \\\n",
              "0               Jim of Oz \"jim-of-oz\"                7/7           4.0   \n",
              "1                       Kevin Killian              10/10           5.0   \n",
              "2                        John Granger              10/11           5.0   \n",
              "3  Roy E. Perry \"amateur philosopher\"                7/7           4.0   \n",
              "4     D. H. Richards \"ninthwavestore\"                3/3           4.0   \n",
              "\n",
              "   review/time                                   review/summary  \\\n",
              "0    940636800           Nice collection of Julie Strain images   \n",
              "1   1095724800                                Really Enjoyed It   \n",
              "2   1078790400  Essential for every personal and Public Library   \n",
              "3   1090713600  Phlip Nel gives silly Seuss a serious treatment   \n",
              "4   1107993600                           Good academic overview   \n",
              "\n",
              "                                         review/text  \n",
              "0  This is only for Julie Strain fans. It's a col...  \n",
              "1  I don't care much for Dr. Seuss but after read...  \n",
              "2  If people become the books they read and if \"t...  \n",
              "3  Theodore Seuss Geisel (1904-1991), aka &quot;D...  \n",
              "4  Philip Nel - Dr. Seuss: American IconThis is b...  "
            ],
            "text/html": [
              "\n",
              "  <div id=\"df-48b5c0e9-244d-4c3d-a724-324b564f720e\">\n",
              "    <div class=\"colab-df-container\">\n",
              "      <div>\n",
              "<style scoped>\n",
              "    .dataframe tbody tr th:only-of-type {\n",
              "        vertical-align: middle;\n",
              "    }\n",
              "\n",
              "    .dataframe tbody tr th {\n",
              "        vertical-align: top;\n",
              "    }\n",
              "\n",
              "    .dataframe thead th {\n",
              "        text-align: right;\n",
              "    }\n",
              "</style>\n",
              "<table border=\"1\" class=\"dataframe\">\n",
              "  <thead>\n",
              "    <tr style=\"text-align: right;\">\n",
              "      <th></th>\n",
              "      <th>Id</th>\n",
              "      <th>Title</th>\n",
              "      <th>Price</th>\n",
              "      <th>User_id</th>\n",
              "      <th>profileName</th>\n",
              "      <th>review/helpfulness</th>\n",
              "      <th>review/score</th>\n",
              "      <th>review/time</th>\n",
              "      <th>review/summary</th>\n",
              "      <th>review/text</th>\n",
              "    </tr>\n",
              "  </thead>\n",
              "  <tbody>\n",
              "    <tr>\n",
              "      <th>0</th>\n",
              "      <td>1882931173</td>\n",
              "      <td>Its Only Art If Its Well Hung!</td>\n",
              "      <td>NaN</td>\n",
              "      <td>AVCGYZL8FQQTD</td>\n",
              "      <td>Jim of Oz \"jim-of-oz\"</td>\n",
              "      <td>7/7</td>\n",
              "      <td>4.0</td>\n",
              "      <td>940636800</td>\n",
              "      <td>Nice collection of Julie Strain images</td>\n",
              "      <td>This is only for Julie Strain fans. It's a col...</td>\n",
              "    </tr>\n",
              "    <tr>\n",
              "      <th>1</th>\n",
              "      <td>0826414346</td>\n",
              "      <td>Dr. Seuss: American Icon</td>\n",
              "      <td>NaN</td>\n",
              "      <td>A30TK6U7DNS82R</td>\n",
              "      <td>Kevin Killian</td>\n",
              "      <td>10/10</td>\n",
              "      <td>5.0</td>\n",
              "      <td>1095724800</td>\n",
              "      <td>Really Enjoyed It</td>\n",
              "      <td>I don't care much for Dr. Seuss but after read...</td>\n",
              "    </tr>\n",
              "    <tr>\n",
              "      <th>2</th>\n",
              "      <td>0826414346</td>\n",
              "      <td>Dr. Seuss: American Icon</td>\n",
              "      <td>NaN</td>\n",
              "      <td>A3UH4UZ4RSVO82</td>\n",
              "      <td>John Granger</td>\n",
              "      <td>10/11</td>\n",
              "      <td>5.0</td>\n",
              "      <td>1078790400</td>\n",
              "      <td>Essential for every personal and Public Library</td>\n",
              "      <td>If people become the books they read and if \"t...</td>\n",
              "    </tr>\n",
              "    <tr>\n",
              "      <th>3</th>\n",
              "      <td>0826414346</td>\n",
              "      <td>Dr. Seuss: American Icon</td>\n",
              "      <td>NaN</td>\n",
              "      <td>A2MVUWT453QH61</td>\n",
              "      <td>Roy E. Perry \"amateur philosopher\"</td>\n",
              "      <td>7/7</td>\n",
              "      <td>4.0</td>\n",
              "      <td>1090713600</td>\n",
              "      <td>Phlip Nel gives silly Seuss a serious treatment</td>\n",
              "      <td>Theodore Seuss Geisel (1904-1991), aka &amp;quot;D...</td>\n",
              "    </tr>\n",
              "    <tr>\n",
              "      <th>4</th>\n",
              "      <td>0826414346</td>\n",
              "      <td>Dr. Seuss: American Icon</td>\n",
              "      <td>NaN</td>\n",
              "      <td>A22X4XUPKF66MR</td>\n",
              "      <td>D. H. Richards \"ninthwavestore\"</td>\n",
              "      <td>3/3</td>\n",
              "      <td>4.0</td>\n",
              "      <td>1107993600</td>\n",
              "      <td>Good academic overview</td>\n",
              "      <td>Philip Nel - Dr. Seuss: American IconThis is b...</td>\n",
              "    </tr>\n",
              "  </tbody>\n",
              "</table>\n",
              "</div>\n",
              "      <button class=\"colab-df-convert\" onclick=\"convertToInteractive('df-48b5c0e9-244d-4c3d-a724-324b564f720e')\"\n",
              "              title=\"Convert this dataframe to an interactive table.\"\n",
              "              style=\"display:none;\">\n",
              "        \n",
              "  <svg xmlns=\"http://www.w3.org/2000/svg\" height=\"24px\"viewBox=\"0 0 24 24\"\n",
              "       width=\"24px\">\n",
              "    <path d=\"M0 0h24v24H0V0z\" fill=\"none\"/>\n",
              "    <path d=\"M18.56 5.44l.94 2.06.94-2.06 2.06-.94-2.06-.94-.94-2.06-.94 2.06-2.06.94zm-11 1L8.5 8.5l.94-2.06 2.06-.94-2.06-.94L8.5 2.5l-.94 2.06-2.06.94zm10 10l.94 2.06.94-2.06 2.06-.94-2.06-.94-.94-2.06-.94 2.06-2.06.94z\"/><path d=\"M17.41 7.96l-1.37-1.37c-.4-.4-.92-.59-1.43-.59-.52 0-1.04.2-1.43.59L10.3 9.45l-7.72 7.72c-.78.78-.78 2.05 0 2.83L4 21.41c.39.39.9.59 1.41.59.51 0 1.02-.2 1.41-.59l7.78-7.78 2.81-2.81c.8-.78.8-2.07 0-2.86zM5.41 20L4 18.59l7.72-7.72 1.47 1.35L5.41 20z\"/>\n",
              "  </svg>\n",
              "      </button>\n",
              "      \n",
              "  <style>\n",
              "    .colab-df-container {\n",
              "      display:flex;\n",
              "      flex-wrap:wrap;\n",
              "      gap: 12px;\n",
              "    }\n",
              "\n",
              "    .colab-df-convert {\n",
              "      background-color: #E8F0FE;\n",
              "      border: none;\n",
              "      border-radius: 50%;\n",
              "      cursor: pointer;\n",
              "      display: none;\n",
              "      fill: #1967D2;\n",
              "      height: 32px;\n",
              "      padding: 0 0 0 0;\n",
              "      width: 32px;\n",
              "    }\n",
              "\n",
              "    .colab-df-convert:hover {\n",
              "      background-color: #E2EBFA;\n",
              "      box-shadow: 0px 1px 2px rgba(60, 64, 67, 0.3), 0px 1px 3px 1px rgba(60, 64, 67, 0.15);\n",
              "      fill: #174EA6;\n",
              "    }\n",
              "\n",
              "    [theme=dark] .colab-df-convert {\n",
              "      background-color: #3B4455;\n",
              "      fill: #D2E3FC;\n",
              "    }\n",
              "\n",
              "    [theme=dark] .colab-df-convert:hover {\n",
              "      background-color: #434B5C;\n",
              "      box-shadow: 0px 1px 3px 1px rgba(0, 0, 0, 0.15);\n",
              "      filter: drop-shadow(0px 1px 2px rgba(0, 0, 0, 0.3));\n",
              "      fill: #FFFFFF;\n",
              "    }\n",
              "  </style>\n",
              "\n",
              "      <script>\n",
              "        const buttonEl =\n",
              "          document.querySelector('#df-48b5c0e9-244d-4c3d-a724-324b564f720e button.colab-df-convert');\n",
              "        buttonEl.style.display =\n",
              "          google.colab.kernel.accessAllowed ? 'block' : 'none';\n",
              "\n",
              "        async function convertToInteractive(key) {\n",
              "          const element = document.querySelector('#df-48b5c0e9-244d-4c3d-a724-324b564f720e');\n",
              "          const dataTable =\n",
              "            await google.colab.kernel.invokeFunction('convertToInteractive',\n",
              "                                                     [key], {});\n",
              "          if (!dataTable) return;\n",
              "\n",
              "          const docLinkHtml = 'Like what you see? Visit the ' +\n",
              "            '<a target=\"_blank\" href=https://colab.research.google.com/notebooks/data_table.ipynb>data table notebook</a>'\n",
              "            + ' to learn more about interactive tables.';\n",
              "          element.innerHTML = '';\n",
              "          dataTable['output_type'] = 'display_data';\n",
              "          await google.colab.output.renderOutput(dataTable, element);\n",
              "          const docLink = document.createElement('div');\n",
              "          docLink.innerHTML = docLinkHtml;\n",
              "          element.appendChild(docLink);\n",
              "        }\n",
              "      </script>\n",
              "    </div>\n",
              "  </div>\n",
              "  "
            ]
          },
          "metadata": {},
          "execution_count": 42
        }
      ],
      "source": [
        "# Reading process of the file using Dask\n",
        "from dask import dataframe\n",
        "df_sample = dataframe.read_csv('/content/drive/MyDrive/Intern week6/Books_rating.csv',delimiter=',', dtype={'Id': 'object'})\n",
        "df_sample.head()"
      ]
    },
    {
      "cell_type": "code",
      "execution_count": 49,
      "metadata": {
        "pycharm": {
          "name": "#%%\n"
        },
        "id": "ISIH4NtNlyhI"
      },
      "outputs": [],
      "source": [
        "#Reading the file using config file\n",
        "file_type = config_data['file_type']\n",
        "source_file = '/content/drive/MyDrive/Intern week6/' + config_data['file_name'] + f'.{file_type}'"
      ]
    },
    {
      "cell_type": "code",
      "execution_count": 50,
      "metadata": {
        "pycharm": {
          "name": "#%%\n"
        },
        "colab": {
          "base_uri": "https://localhost:8080/",
          "height": 337
        },
        "id": "_t6ZFbMilyhJ",
        "outputId": "06242bb7-6559-48b5-db62-ed320a0c64bf"
      },
      "outputs": [
        {
          "output_type": "execute_result",
          "data": {
            "text/plain": [
              "           Id                           Title  Price         User_id  \\\n",
              "0  1882931173  Its Only Art If Its Well Hung!    NaN   AVCGYZL8FQQTD   \n",
              "1  0826414346        Dr. Seuss: American Icon    NaN  A30TK6U7DNS82R   \n",
              "2  0826414346        Dr. Seuss: American Icon    NaN  A3UH4UZ4RSVO82   \n",
              "3  0826414346        Dr. Seuss: American Icon    NaN  A2MVUWT453QH61   \n",
              "4  0826414346        Dr. Seuss: American Icon    NaN  A22X4XUPKF66MR   \n",
              "\n",
              "                          profileName review/helpfulness  review/score  \\\n",
              "0               Jim of Oz \"jim-of-oz\"                7/7           4.0   \n",
              "1                       Kevin Killian              10/10           5.0   \n",
              "2                        John Granger              10/11           5.0   \n",
              "3  Roy E. Perry \"amateur philosopher\"                7/7           4.0   \n",
              "4     D. H. Richards \"ninthwavestore\"                3/3           4.0   \n",
              "\n",
              "   review/time                                   review/summary  \\\n",
              "0    940636800           Nice collection of Julie Strain images   \n",
              "1   1095724800                                Really Enjoyed It   \n",
              "2   1078790400  Essential for every personal and Public Library   \n",
              "3   1090713600  Phlip Nel gives silly Seuss a serious treatment   \n",
              "4   1107993600                           Good academic overview   \n",
              "\n",
              "                                         review/text  \n",
              "0  This is only for Julie Strain fans. It's a col...  \n",
              "1  I don't care much for Dr. Seuss but after read...  \n",
              "2  If people become the books they read and if \"t...  \n",
              "3  Theodore Seuss Geisel (1904-1991), aka &quot;D...  \n",
              "4  Philip Nel - Dr. Seuss: American IconThis is b...  "
            ],
            "text/html": [
              "\n",
              "  <div id=\"df-fa6e9edd-5849-4a83-bf97-44df2d8c8565\">\n",
              "    <div class=\"colab-df-container\">\n",
              "      <div>\n",
              "<style scoped>\n",
              "    .dataframe tbody tr th:only-of-type {\n",
              "        vertical-align: middle;\n",
              "    }\n",
              "\n",
              "    .dataframe tbody tr th {\n",
              "        vertical-align: top;\n",
              "    }\n",
              "\n",
              "    .dataframe thead th {\n",
              "        text-align: right;\n",
              "    }\n",
              "</style>\n",
              "<table border=\"1\" class=\"dataframe\">\n",
              "  <thead>\n",
              "    <tr style=\"text-align: right;\">\n",
              "      <th></th>\n",
              "      <th>Id</th>\n",
              "      <th>Title</th>\n",
              "      <th>Price</th>\n",
              "      <th>User_id</th>\n",
              "      <th>profileName</th>\n",
              "      <th>review/helpfulness</th>\n",
              "      <th>review/score</th>\n",
              "      <th>review/time</th>\n",
              "      <th>review/summary</th>\n",
              "      <th>review/text</th>\n",
              "    </tr>\n",
              "  </thead>\n",
              "  <tbody>\n",
              "    <tr>\n",
              "      <th>0</th>\n",
              "      <td>1882931173</td>\n",
              "      <td>Its Only Art If Its Well Hung!</td>\n",
              "      <td>NaN</td>\n",
              "      <td>AVCGYZL8FQQTD</td>\n",
              "      <td>Jim of Oz \"jim-of-oz\"</td>\n",
              "      <td>7/7</td>\n",
              "      <td>4.0</td>\n",
              "      <td>940636800</td>\n",
              "      <td>Nice collection of Julie Strain images</td>\n",
              "      <td>This is only for Julie Strain fans. It's a col...</td>\n",
              "    </tr>\n",
              "    <tr>\n",
              "      <th>1</th>\n",
              "      <td>0826414346</td>\n",
              "      <td>Dr. Seuss: American Icon</td>\n",
              "      <td>NaN</td>\n",
              "      <td>A30TK6U7DNS82R</td>\n",
              "      <td>Kevin Killian</td>\n",
              "      <td>10/10</td>\n",
              "      <td>5.0</td>\n",
              "      <td>1095724800</td>\n",
              "      <td>Really Enjoyed It</td>\n",
              "      <td>I don't care much for Dr. Seuss but after read...</td>\n",
              "    </tr>\n",
              "    <tr>\n",
              "      <th>2</th>\n",
              "      <td>0826414346</td>\n",
              "      <td>Dr. Seuss: American Icon</td>\n",
              "      <td>NaN</td>\n",
              "      <td>A3UH4UZ4RSVO82</td>\n",
              "      <td>John Granger</td>\n",
              "      <td>10/11</td>\n",
              "      <td>5.0</td>\n",
              "      <td>1078790400</td>\n",
              "      <td>Essential for every personal and Public Library</td>\n",
              "      <td>If people become the books they read and if \"t...</td>\n",
              "    </tr>\n",
              "    <tr>\n",
              "      <th>3</th>\n",
              "      <td>0826414346</td>\n",
              "      <td>Dr. Seuss: American Icon</td>\n",
              "      <td>NaN</td>\n",
              "      <td>A2MVUWT453QH61</td>\n",
              "      <td>Roy E. Perry \"amateur philosopher\"</td>\n",
              "      <td>7/7</td>\n",
              "      <td>4.0</td>\n",
              "      <td>1090713600</td>\n",
              "      <td>Phlip Nel gives silly Seuss a serious treatment</td>\n",
              "      <td>Theodore Seuss Geisel (1904-1991), aka &amp;quot;D...</td>\n",
              "    </tr>\n",
              "    <tr>\n",
              "      <th>4</th>\n",
              "      <td>0826414346</td>\n",
              "      <td>Dr. Seuss: American Icon</td>\n",
              "      <td>NaN</td>\n",
              "      <td>A22X4XUPKF66MR</td>\n",
              "      <td>D. H. Richards \"ninthwavestore\"</td>\n",
              "      <td>3/3</td>\n",
              "      <td>4.0</td>\n",
              "      <td>1107993600</td>\n",
              "      <td>Good academic overview</td>\n",
              "      <td>Philip Nel - Dr. Seuss: American IconThis is b...</td>\n",
              "    </tr>\n",
              "  </tbody>\n",
              "</table>\n",
              "</div>\n",
              "      <button class=\"colab-df-convert\" onclick=\"convertToInteractive('df-fa6e9edd-5849-4a83-bf97-44df2d8c8565')\"\n",
              "              title=\"Convert this dataframe to an interactive table.\"\n",
              "              style=\"display:none;\">\n",
              "        \n",
              "  <svg xmlns=\"http://www.w3.org/2000/svg\" height=\"24px\"viewBox=\"0 0 24 24\"\n",
              "       width=\"24px\">\n",
              "    <path d=\"M0 0h24v24H0V0z\" fill=\"none\"/>\n",
              "    <path d=\"M18.56 5.44l.94 2.06.94-2.06 2.06-.94-2.06-.94-.94-2.06-.94 2.06-2.06.94zm-11 1L8.5 8.5l.94-2.06 2.06-.94-2.06-.94L8.5 2.5l-.94 2.06-2.06.94zm10 10l.94 2.06.94-2.06 2.06-.94-2.06-.94-.94-2.06-.94 2.06-2.06.94z\"/><path d=\"M17.41 7.96l-1.37-1.37c-.4-.4-.92-.59-1.43-.59-.52 0-1.04.2-1.43.59L10.3 9.45l-7.72 7.72c-.78.78-.78 2.05 0 2.83L4 21.41c.39.39.9.59 1.41.59.51 0 1.02-.2 1.41-.59l7.78-7.78 2.81-2.81c.8-.78.8-2.07 0-2.86zM5.41 20L4 18.59l7.72-7.72 1.47 1.35L5.41 20z\"/>\n",
              "  </svg>\n",
              "      </button>\n",
              "      \n",
              "  <style>\n",
              "    .colab-df-container {\n",
              "      display:flex;\n",
              "      flex-wrap:wrap;\n",
              "      gap: 12px;\n",
              "    }\n",
              "\n",
              "    .colab-df-convert {\n",
              "      background-color: #E8F0FE;\n",
              "      border: none;\n",
              "      border-radius: 50%;\n",
              "      cursor: pointer;\n",
              "      display: none;\n",
              "      fill: #1967D2;\n",
              "      height: 32px;\n",
              "      padding: 0 0 0 0;\n",
              "      width: 32px;\n",
              "    }\n",
              "\n",
              "    .colab-df-convert:hover {\n",
              "      background-color: #E2EBFA;\n",
              "      box-shadow: 0px 1px 2px rgba(60, 64, 67, 0.3), 0px 1px 3px 1px rgba(60, 64, 67, 0.15);\n",
              "      fill: #174EA6;\n",
              "    }\n",
              "\n",
              "    [theme=dark] .colab-df-convert {\n",
              "      background-color: #3B4455;\n",
              "      fill: #D2E3FC;\n",
              "    }\n",
              "\n",
              "    [theme=dark] .colab-df-convert:hover {\n",
              "      background-color: #434B5C;\n",
              "      box-shadow: 0px 1px 3px 1px rgba(0, 0, 0, 0.15);\n",
              "      filter: drop-shadow(0px 1px 2px rgba(0, 0, 0, 0.3));\n",
              "      fill: #FFFFFF;\n",
              "    }\n",
              "  </style>\n",
              "\n",
              "      <script>\n",
              "        const buttonEl =\n",
              "          document.querySelector('#df-fa6e9edd-5849-4a83-bf97-44df2d8c8565 button.colab-df-convert');\n",
              "        buttonEl.style.display =\n",
              "          google.colab.kernel.accessAllowed ? 'block' : 'none';\n",
              "\n",
              "        async function convertToInteractive(key) {\n",
              "          const element = document.querySelector('#df-fa6e9edd-5849-4a83-bf97-44df2d8c8565');\n",
              "          const dataTable =\n",
              "            await google.colab.kernel.invokeFunction('convertToInteractive',\n",
              "                                                     [key], {});\n",
              "          if (!dataTable) return;\n",
              "\n",
              "          const docLinkHtml = 'Like what you see? Visit the ' +\n",
              "            '<a target=\"_blank\" href=https://colab.research.google.com/notebooks/data_table.ipynb>data table notebook</a>'\n",
              "            + ' to learn more about interactive tables.';\n",
              "          element.innerHTML = '';\n",
              "          dataTable['output_type'] = 'display_data';\n",
              "          await google.colab.output.renderOutput(dataTable, element);\n",
              "          const docLink = document.createElement('div');\n",
              "          docLink.innerHTML = docLinkHtml;\n",
              "          element.appendChild(docLink);\n",
              "        }\n",
              "      </script>\n",
              "    </div>\n",
              "  </div>\n",
              "  "
            ]
          },
          "metadata": {},
          "execution_count": 50
        }
      ],
      "source": [
        "import pandas as pd\n",
        "df = pd.read_csv(source_file,config_data['inbound_delimiter'])\n",
        "df.head()"
      ]
    },
    {
      "cell_type": "code",
      "execution_count": 51,
      "metadata": {
        "pycharm": {
          "name": "#%%\n"
        },
        "colab": {
          "base_uri": "https://localhost:8080/"
        },
        "id": "u23u3cfTlyhK",
        "outputId": "c3e32e41-3e04-473d-f8b4-beae876f632d"
      },
      "outputs": [
        {
          "output_type": "stream",
          "name": "stdout",
          "text": [
            "column name and column length validation passed\n"
          ]
        },
        {
          "output_type": "execute_result",
          "data": {
            "text/plain": [
              "1"
            ]
          },
          "metadata": {},
          "execution_count": 51
        }
      ],
      "source": [
        "#validating the header of the file\n",
        "col_header_val(df,config_data)"
      ]
    },
    {
      "cell_type": "code",
      "execution_count": 52,
      "metadata": {
        "pycharm": {
          "name": "#%%\n"
        },
        "colab": {
          "base_uri": "https://localhost:8080/"
        },
        "id": "spVDIbYzlyhL",
        "outputId": "e22799cf-23f4-4bdd-f57b-7e6e6b4b74c9"
      },
      "outputs": [
        {
          "output_type": "stream",
          "name": "stdout",
          "text": [
            "columns of files are: Index(['id', 'title', 'price', 'user_id', 'profilename', 'review_helpfulness',\n",
            "       'review_score', 'review_time', 'review_summary', 'review_text'],\n",
            "      dtype='object')\n",
            "columns of YAML are: ['Id', 'Title', 'Price', 'User_id', 'profileName', 'review_helpfulness', 'review_score', 'review_time', 'review_summary', 'review_text']\n"
          ]
        }
      ],
      "source": [
        "print(\"columns of files are:\" ,df.columns)\n",
        "print(\"columns of YAML are:\" ,config_data['columns'])"
      ]
    },
    {
      "cell_type": "code",
      "execution_count": 53,
      "metadata": {
        "pycharm": {
          "name": "#%%\n"
        },
        "colab": {
          "base_uri": "https://localhost:8080/"
        },
        "id": "T80OePM9lyhM",
        "outputId": "0188cb16-fd90-4a6c-86ea-c1993e5e7e14"
      },
      "outputs": [
        {
          "output_type": "stream",
          "name": "stdout",
          "text": [
            "column name and column length validation passed\n",
            "col validation passed\n"
          ]
        }
      ],
      "source": [
        "if col_header_val(df,config_data)==0:\n",
        "    print(\"validation failed\")\n",
        "else:\n",
        "    print(\"col validation passed\")"
      ]
    },
    {
      "cell_type": "code",
      "execution_count": 55,
      "metadata": {
        "pycharm": {
          "name": "#%%\n"
        },
        "colab": {
          "base_uri": "https://localhost:8080/"
        },
        "id": "xJLS27gGlyhQ",
        "outputId": "50e6618f-9e6c-4a35-991f-341bfeed66e7"
      },
      "outputs": [
        {
          "output_type": "execute_result",
          "data": {
            "text/plain": [
              "['/content/drive/MyDrive/Intern week6/Books_rating.csv.gz/00.part',\n",
              " '/content/drive/MyDrive/Intern week6/Books_rating.csv.gz/01.part',\n",
              " '/content/drive/MyDrive/Intern week6/Books_rating.csv.gz/02.part',\n",
              " '/content/drive/MyDrive/Intern week6/Books_rating.csv.gz/03.part',\n",
              " '/content/drive/MyDrive/Intern week6/Books_rating.csv.gz/04.part',\n",
              " '/content/drive/MyDrive/Intern week6/Books_rating.csv.gz/05.part',\n",
              " '/content/drive/MyDrive/Intern week6/Books_rating.csv.gz/06.part',\n",
              " '/content/drive/MyDrive/Intern week6/Books_rating.csv.gz/07.part',\n",
              " '/content/drive/MyDrive/Intern week6/Books_rating.csv.gz/08.part',\n",
              " '/content/drive/MyDrive/Intern week6/Books_rating.csv.gz/09.part',\n",
              " '/content/drive/MyDrive/Intern week6/Books_rating.csv.gz/10.part',\n",
              " '/content/drive/MyDrive/Intern week6/Books_rating.csv.gz/11.part',\n",
              " '/content/drive/MyDrive/Intern week6/Books_rating.csv.gz/12.part',\n",
              " '/content/drive/MyDrive/Intern week6/Books_rating.csv.gz/13.part',\n",
              " '/content/drive/MyDrive/Intern week6/Books_rating.csv.gz/14.part',\n",
              " '/content/drive/MyDrive/Intern week6/Books_rating.csv.gz/15.part',\n",
              " '/content/drive/MyDrive/Intern week6/Books_rating.csv.gz/16.part',\n",
              " '/content/drive/MyDrive/Intern week6/Books_rating.csv.gz/17.part',\n",
              " '/content/drive/MyDrive/Intern week6/Books_rating.csv.gz/18.part',\n",
              " '/content/drive/MyDrive/Intern week6/Books_rating.csv.gz/19.part',\n",
              " '/content/drive/MyDrive/Intern week6/Books_rating.csv.gz/20.part',\n",
              " '/content/drive/MyDrive/Intern week6/Books_rating.csv.gz/21.part',\n",
              " '/content/drive/MyDrive/Intern week6/Books_rating.csv.gz/22.part',\n",
              " '/content/drive/MyDrive/Intern week6/Books_rating.csv.gz/23.part',\n",
              " '/content/drive/MyDrive/Intern week6/Books_rating.csv.gz/24.part',\n",
              " '/content/drive/MyDrive/Intern week6/Books_rating.csv.gz/25.part',\n",
              " '/content/drive/MyDrive/Intern week6/Books_rating.csv.gz/26.part',\n",
              " '/content/drive/MyDrive/Intern week6/Books_rating.csv.gz/27.part',\n",
              " '/content/drive/MyDrive/Intern week6/Books_rating.csv.gz/28.part',\n",
              " '/content/drive/MyDrive/Intern week6/Books_rating.csv.gz/29.part',\n",
              " '/content/drive/MyDrive/Intern week6/Books_rating.csv.gz/30.part',\n",
              " '/content/drive/MyDrive/Intern week6/Books_rating.csv.gz/31.part',\n",
              " '/content/drive/MyDrive/Intern week6/Books_rating.csv.gz/32.part',\n",
              " '/content/drive/MyDrive/Intern week6/Books_rating.csv.gz/33.part',\n",
              " '/content/drive/MyDrive/Intern week6/Books_rating.csv.gz/34.part',\n",
              " '/content/drive/MyDrive/Intern week6/Books_rating.csv.gz/35.part',\n",
              " '/content/drive/MyDrive/Intern week6/Books_rating.csv.gz/36.part',\n",
              " '/content/drive/MyDrive/Intern week6/Books_rating.csv.gz/37.part',\n",
              " '/content/drive/MyDrive/Intern week6/Books_rating.csv.gz/38.part',\n",
              " '/content/drive/MyDrive/Intern week6/Books_rating.csv.gz/39.part',\n",
              " '/content/drive/MyDrive/Intern week6/Books_rating.csv.gz/40.part',\n",
              " '/content/drive/MyDrive/Intern week6/Books_rating.csv.gz/41.part',\n",
              " '/content/drive/MyDrive/Intern week6/Books_rating.csv.gz/42.part',\n",
              " '/content/drive/MyDrive/Intern week6/Books_rating.csv.gz/43.part']"
            ]
          },
          "metadata": {},
          "execution_count": 55
        }
      ],
      "source": [
        "import datetime\n",
        "import csv\n",
        "import gzip\n",
        "\n",
        "from dask import dataframe as dd\n",
        "df = dd.read_csv('/content/drive/MyDrive/Intern week6/Books_rating.csv',delimiter=',', dtype={'Id': 'object'})\n",
        "\n",
        "# Write csv in gz format in pipe separated text file (|)\n",
        "df.to_csv('/content/drive/MyDrive/Intern week6/Books_rating.csv.gz',\n",
        "          sep='|',\n",
        "          header=True,\n",
        "          index=False,\n",
        "          quoting=csv.QUOTE_ALL,\n",
        "          compression='gzip',\n",
        "          quotechar='\"',\n",
        "          doublequote=True,\n",
        "          line_terminator='\\n')"
      ]
    },
    {
      "cell_type": "code",
      "execution_count": 56,
      "metadata": {
        "pycharm": {
          "name": "#%%\n"
        },
        "colab": {
          "base_uri": "https://localhost:8080/"
        },
        "id": "U3_NhH0ulyhR",
        "outputId": "0ee681b1-6b8b-4b13-9a4a-0ad21bc832b9"
      },
      "outputs": [
        {
          "output_type": "stream",
          "name": "stdout",
          "text": [
            "01.part\n",
            "00.part\n",
            "02.part\n",
            "03.part\n",
            "04.part\n",
            "05.part\n",
            "06.part\n",
            "07.part\n",
            "08.part\n",
            "09.part\n",
            "10.part\n",
            "11.part\n",
            "12.part\n",
            "13.part\n",
            "14.part\n",
            "15.part\n",
            "16.part\n",
            "17.part\n",
            "18.part\n",
            "19.part\n",
            "20.part\n",
            "21.part\n",
            "23.part\n",
            "22.part\n",
            "24.part\n",
            "25.part\n",
            "26.part\n",
            "27.part\n",
            "28.part\n",
            "29.part\n",
            "30.part\n",
            "31.part\n",
            "33.part\n",
            "32.part\n",
            "34.part\n",
            "35.part\n",
            "36.part\n",
            "37.part\n",
            "38.part\n",
            "39.part\n",
            "40.part\n",
            "41.part\n",
            "42.part\n",
            "43.part\n"
          ]
        }
      ],
      "source": [
        "#number of files in gz format folder\n",
        "import os\n",
        "entries = os.listdir('/content/drive/MyDrive/Intern week6/Books_rating.csv.gz')\n",
        "for entry in entries:\n",
        "    print(entry)"
      ]
    },
    {
      "cell_type": "code",
      "execution_count": 57,
      "metadata": {
        "pycharm": {
          "name": "#%%\n"
        },
        "colab": {
          "base_uri": "https://localhost:8080/"
        },
        "id": "8_DV210slyhY",
        "outputId": "caf75247-fb71-4fe4-d042-9b308786ec05"
      },
      "outputs": [
        {
          "output_type": "execute_result",
          "data": {
            "text/plain": [
              "4096"
            ]
          },
          "metadata": {},
          "execution_count": 57
        }
      ],
      "source": [
        "#size of the gz format folder\n",
        "os.path.getsize('/content/drive/MyDrive/Intern week6/Books_rating.csv.gz')"
      ]
    }
  ],
  "metadata": {
    "kernelspec": {
      "display_name": "Python 3 (ipykernel)",
      "language": "python",
      "name": "python3"
    },
    "language_info": {
      "codemirror_mode": {
        "name": "ipython",
        "version": 3
      },
      "file_extension": ".py",
      "mimetype": "text/x-python",
      "name": "python",
      "nbconvert_exporter": "python",
      "pygments_lexer": "ipython3",
      "version": "3.9.7"
    },
    "colab": {
      "provenance": []
    }
  },
  "nbformat": 4,
  "nbformat_minor": 0
}